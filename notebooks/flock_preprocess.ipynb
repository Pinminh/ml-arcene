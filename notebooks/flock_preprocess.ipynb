{
  "cells": [
    {
      "cell_type": "code",
      "execution_count": 1,
      "metadata": {
        "colab": {
          "base_uri": "https://localhost:8080/"
        },
        "id": "jsxwuAXfmyhH",
        "outputId": "526373a4-e00d-4972-dbac-6e66b843d4bf"
      },
      "outputs": [
        {
          "name": "stderr",
          "output_type": "stream",
          "text": [
            "C:\\Users\\ASUS\\AppData\\Local\\Temp\\ipykernel_17868\\3774270678.py:3: DtypeWarning: Columns (0) have mixed types. Specify dtype option on import or set low_memory=False.\n",
            "  data = pd.read_csv('../data/Flocking.csv')\n"
          ]
        },
        {
          "name": "stdout",
          "output_type": "stream",
          "text": [
            "        x1      y1  xVel1  yVel1   xA1  yA1     xS1     yS1   xC1   yC1  ...  \\\n",
            "0 -1414.14 -535.22 -17.88  -7.23  0.00  0.0    0.00    0.00  0.00  0.00  ...   \n",
            "1 -1412.93  597.54 -13.55  -5.48  0.00  0.0    0.00    0.00  0.00  0.00  ...   \n",
            "2 -1407.38   70.72 -14.37  -5.81  0.00  0.0    0.00    0.00  0.00  0.00  ...   \n",
            "3  -1407.0 -759.80  -7.59  -1.27 -0.98 -0.2    0.00    0.00  0.91  0.41  ...   \n",
            "4 -1406.36  698.39 -16.54  -6.95 -1.00  0.0 -944.07 -396.62  0.00  0.00  ...   \n",
            "\n",
            "   yVel200  xA200  yA200  xS200  yS200  xC200  yC200  nAC200  nS200  Class   \n",
            "0   -16.85    0.0   0.00    0.0    0.0   0.00   0.00      29      0       0  \n",
            "1   -12.09    0.0   0.00    0.0    0.0   0.00   0.00      44      0       0  \n",
            "2   -16.20    0.0   0.00    0.0    0.0   0.00   0.00      40      0       0  \n",
            "3     2.99   -1.0  -0.07    0.0    0.0  -0.52   0.86       3      0       1  \n",
            "4   -12.61    0.0  -1.00    0.0    0.0   0.00   0.00      13      0       0  \n",
            "\n",
            "[5 rows x 2401 columns]\n"
          ]
        }
      ],
      "source": [
        "import pandas as pd\n",
        "\n",
        "data = pd.read_csv('../data/Flocking.csv')\n",
        "\n",
        "print(data.head())"
      ]
    },
    {
      "cell_type": "code",
      "execution_count": 2,
      "metadata": {
        "colab": {
          "base_uri": "https://localhost:8080/"
        },
        "id": "fL-U_aWH33Kj",
        "outputId": "1aeb5fe2-8cc2-482d-ab30-be85fb7369e8"
      },
      "outputs": [
        {
          "name": "stdout",
          "output_type": "stream",
          "text": [
            "x1         object\n",
            "y1        float64\n",
            "xVel1     float64\n",
            "yVel1     float64\n",
            "xA1       float64\n",
            "           ...   \n",
            "xC200     float64\n",
            "yC200     float64\n",
            "nAC200      int64\n",
            "nS200       int64\n",
            "Class       int64\n",
            "Length: 2401, dtype: object\n",
            "(24016, 2401)\n"
          ]
        }
      ],
      "source": [
        "print(data.dtypes)\n",
        "print(data.shape)"
      ]
    },
    {
      "cell_type": "code",
      "execution_count": 3,
      "metadata": {
        "colab": {
          "base_uri": "https://localhost:8080/"
        },
        "id": "Ey6Ubraj9GZe",
        "outputId": "1cd3f158-1109-44a3-cb68-cfa0bbbd79c6"
      },
      "outputs": [
        {
          "name": "stdout",
          "output_type": "stream",
          "text": [
            "First 5 entries in column 0:\n",
            "0   -1414.14\n",
            "1   -1412.93\n",
            "2   -1407.38\n",
            "3    -1407.0\n",
            "4   -1406.36\n",
            "Name: x1, dtype: object\n",
            "Data type of column 0: object\n"
          ]
        }
      ],
      "source": [
        "print(\"First 5 entries in column 0:\")\n",
        "print(data.iloc[:, 0].head())\n",
        "\n",
        "# Check the data type\n",
        "print(f\"Data type of column 0: {data.iloc[:, 0].dtype}\")"
      ]
    },
    {
      "cell_type": "code",
      "execution_count": 5,
      "metadata": {
        "colab": {
          "base_uri": "https://localhost:8080/"
        },
        "id": "_R6amf0z9h-4",
        "outputId": "d1b8e4d8-4192-418f-dcf1-15afc3773696"
      },
      "outputs": [
        {
          "name": "stdout",
          "output_type": "stream",
          "text": [
            "Number of non-numeric values in column 0: 1\n",
            "Rows with non-numeric values:\n",
            "        x1     y1  xVel1  yVel1   xA1   yA1  xS1  yS1  xC1  yC1  ...  yVel200  \\\n",
            "24015  NaN -119.9  -0.31   8.64 -0.04  1.04  0.0  0.0  0.0  0.0  ...     9.07   \n",
            "\n",
            "       xA200  yA200  xS200  yS200  xC200  yC200  nAC200  nS200  Class   \n",
            "24015    0.0    1.0    0.0    0.0    0.0    1.0      12      4       1  \n",
            "\n",
            "[1 rows x 2401 columns]\n"
          ]
        }
      ],
      "source": [
        "data.iloc[:, 0] = pd.to_numeric(data.iloc[:, 0], errors='coerce')\n",
        "nan_count = data.iloc[:, 0].isna().sum()\n",
        "print(f\"Number of non-numeric values in column 0: {nan_count}\")\n",
        "\n",
        "if nan_count > 0:\n",
        "  print(\"Rows with non-numeric values:\")\n",
        "  print(data[data.iloc[:, 0].isna()])"
      ]
    },
    {
      "cell_type": "code",
      "execution_count": 6,
      "metadata": {
        "colab": {
          "base_uri": "https://localhost:8080/"
        },
        "id": "5sh7eygUAzvN",
        "outputId": "19c24833-cc03-4f15-aa5b-b2a82646ef77"
      },
      "outputs": [
        {
          "name": "stdout",
          "output_type": "stream",
          "text": [
            "Rows remaining after dropping non-numeric entries: 24015\n"
          ]
        }
      ],
      "source": [
        "if nan_count > 0:\n",
        "  data = data.dropna(subset=[data.columns[0]])\n",
        "  print(f\"Rows remaining after dropping non-numeric entries: {data.shape[0]}\")"
      ]
    },
    {
      "cell_type": "code",
      "execution_count": 12,
      "metadata": {
        "colab": {
          "base_uri": "https://localhost:8080/",
          "height": 84
        },
        "id": "-S6SfocJ4BKs",
        "outputId": "94d21c30-b7da-44e0-849e-b8bc10d5d1d6"
      },
      "outputs": [
        {
          "name": "stdout",
          "output_type": "stream",
          "text": [
            "Number of NaNs: 0\n"
          ]
        }
      ],
      "source": [
        "missing_values = data.isna().sum()\n",
        "print(f'Number of NaNs: {missing_values[missing_values > 0].sum()}')"
      ]
    },
    {
      "cell_type": "code",
      "execution_count": 13,
      "metadata": {
        "colab": {
          "base_uri": "https://localhost:8080/"
        },
        "id": "uDeZz1vc5kEy",
        "outputId": "8696b546-4659-4cbb-ccd2-682222c0391f"
      },
      "outputs": [
        {
          "name": "stdout",
          "output_type": "stream",
          "text": [
            "Number of duplicated rows: 0\n"
          ]
        }
      ],
      "source": [
        "duplicates = data.duplicated().sum()\n",
        "print(f'Number of duplicated rows: {duplicates}')\n",
        "\n",
        "if duplicates > 0:\n",
        "  data = data.drop_duplicates()\n",
        "  print(f'Number of remaining rows: {data.shape[0]}')"
      ]
    },
    {
      "cell_type": "code",
      "execution_count": 14,
      "metadata": {
        "colab": {
          "base_uri": "https://localhost:8080/"
        },
        "id": "wN2Z0Rjy68ik",
        "outputId": "ab4436be-98dd-42ae-f210-567819cae762"
      },
      "outputs": [
        {
          "data": {
            "text/plain": [
              "Index(['x1', 'y1', 'xVel1', 'yVel1', 'xA1', 'yA1', 'xS1', 'yS1', 'xC1', 'yC1',\n",
              "       ...\n",
              "       'yVel200', 'xA200', 'yA200', 'xS200', 'yS200', 'xC200', 'yC200',\n",
              "       'nAC200', 'nS200', 'Class '],\n",
              "      dtype='object', length=2401)"
            ]
          },
          "execution_count": 14,
          "metadata": {},
          "output_type": "execute_result"
        }
      ],
      "source": [
        "data.columns"
      ]
    },
    {
      "cell_type": "code",
      "execution_count": 15,
      "metadata": {
        "colab": {
          "base_uri": "https://localhost:8080/"
        },
        "id": "4e6KNrxbDEc2",
        "outputId": "7d28a3b8-f523-41da-8b31-a3f77e0c91e9"
      },
      "outputs": [
        {
          "data": {
            "text/plain": [
              "Index(['x1', 'y1', 'xVel1', 'yVel1', 'xA1', 'yA1', 'xS1', 'yS1', 'xC1', 'yC1',\n",
              "       ...\n",
              "       'yVel200', 'xA200', 'yA200', 'xS200', 'yS200', 'xC200', 'yC200',\n",
              "       'nAC200', 'nS200', 'Class'],\n",
              "      dtype='object', length=2401)"
            ]
          },
          "execution_count": 15,
          "metadata": {},
          "output_type": "execute_result"
        }
      ],
      "source": [
        "data.columns = data.columns.str.strip()\n",
        "data.columns"
      ]
    },
    {
      "cell_type": "code",
      "execution_count": 16,
      "metadata": {
        "colab": {
          "base_uri": "https://localhost:8080/"
        },
        "id": "LhmiOgQ_DMld",
        "outputId": "76f754d9-4d33-4a78-c35a-9d54c59f0779"
      },
      "outputs": [
        {
          "name": "stdout",
          "output_type": "stream",
          "text": [
            "            x1      y1  xVel1  yVel1   xA1   yA1     xS1     yS1   xC1   yC1  \\\n",
            "0     -1414.14 -535.22 -17.88  -7.23  0.00  0.00    0.00    0.00  0.00  0.00   \n",
            "1     -1412.93  597.54 -13.55  -5.48  0.00  0.00    0.00    0.00  0.00  0.00   \n",
            "2     -1407.38   70.72 -14.37  -5.81  0.00  0.00    0.00    0.00  0.00  0.00   \n",
            "3      -1407.0 -759.80  -7.59  -1.27 -0.98 -0.20    0.00    0.00  0.91  0.41   \n",
            "4     -1406.36  698.39 -16.54  -6.95 -1.00  0.00 -944.07 -396.62  0.00  0.00   \n",
            "...        ...     ...    ...    ...   ...   ...     ...     ...   ...   ...   \n",
            "24010  1403.71  948.55   4.54  -6.29  0.00  0.00    0.00    0.00 -0.13 -0.29   \n",
            "24011  1403.72  133.09   9.46  14.33  0.00  1.00    0.00    0.00  0.00  0.00   \n",
            "24012  1404.38  144.31   6.98   3.89  0.00  0.00    0.00    0.00  0.00  0.00   \n",
            "24013  1404.61 -315.55   6.50   4.27  0.00  0.00    0.00    0.00  0.00  0.00   \n",
            "24014  1406.08 -354.52  10.00   1.18  0.00 -0.01    0.00    0.00  0.31  0.07   \n",
            "\n",
            "       ...  xVel200  yVel200  xA200  yA200  xS200  yS200  xC200  yC200  \\\n",
            "0      ...    -8.94   -16.85    0.0   0.00   0.00   0.00   0.00   0.00   \n",
            "1      ...    -6.42   -12.09    0.0   0.00   0.00   0.00   0.00   0.00   \n",
            "2      ...    -8.60   -16.20    0.0   0.00   0.00   0.00   0.00   0.00   \n",
            "3      ...    -6.98     2.99   -1.0  -0.07   0.00   0.00  -0.52   0.86   \n",
            "4      ...    -7.39   -12.61    0.0  -1.00   0.00   0.00   0.00   0.00   \n",
            "...    ...      ...      ...    ...    ...    ...    ...    ...    ...   \n",
            "24010  ...    -5.48    -4.87    0.0   0.00   0.00   0.00  -0.26  -0.18   \n",
            "24011  ...     2.77     5.20    0.0   1.00  -0.10  -3.24   0.00   0.00   \n",
            "24012  ...    -1.91     9.50    0.0   0.00  -0.85  -0.52   0.00   0.00   \n",
            "24013  ...    -9.25    -0.75    0.0   0.00   0.00   0.00   0.00   0.00   \n",
            "24014  ...    -6.86    -1.13    0.0   0.00   0.00   0.00  -0.31  -0.08   \n",
            "\n",
            "       nAC200  nS200  \n",
            "0          29      0  \n",
            "1          44      0  \n",
            "2          40      0  \n",
            "3           3      0  \n",
            "4          13      0  \n",
            "...       ...    ...  \n",
            "24010      11      0  \n",
            "24011      29      0  \n",
            "24012       5      1  \n",
            "24013       1      0  \n",
            "24014       0      0  \n",
            "\n",
            "[24015 rows x 2400 columns]\n",
            "0        0\n",
            "1        0\n",
            "2        0\n",
            "3        1\n",
            "4        0\n",
            "        ..\n",
            "24010    0\n",
            "24011    0\n",
            "24012    1\n",
            "24013    1\n",
            "24014    0\n",
            "Name: Class, Length: 24015, dtype: int64\n"
          ]
        },
        {
          "data": {
            "text/plain": [
              "(np.int64(12007), np.int64(12008))"
            ]
          },
          "execution_count": 16,
          "metadata": {},
          "output_type": "execute_result"
        }
      ],
      "source": [
        "X = data.drop('Class', axis=1)\n",
        "y = data['Class']\n",
        "\n",
        "print(X)\n",
        "print(y)\n",
        "y[y == 1].count(), y[y == 0].count()"
      ]
    },
    {
      "cell_type": "code",
      "execution_count": null,
      "metadata": {},
      "outputs": [],
      "source": [
        "data.to_csv('../data/ProcessedFlocking.csv', index=False)"
      ]
    },
    {
      "cell_type": "code",
      "execution_count": 83,
      "metadata": {
        "colab": {
          "base_uri": "https://localhost:8080/"
        },
        "id": "BgfAzGpIDbus",
        "outputId": "bb0e8705-f954-4510-a158-c63e42f4050c"
      },
      "outputs": [
        {
          "name": "stdout",
          "output_type": "stream",
          "text": [
            "            x1      y1  xVel1  yVel1   xA1   yA1   xS1   yS1   xC1   yC1  ...  \\\n",
            "5260   -665.32 -307.31  -8.35  -0.17 -0.56 -0.02  0.00  0.00 -0.32 -0.04  ...   \n",
            "16582   741.37  895.65   8.05  13.52  0.00  1.00  2.75  1.71  0.00  0.00  ...   \n",
            "8955   -255.72 -934.51 -11.62  -4.70  0.00  0.00  0.00  0.00  0.00  0.00  ...   \n",
            "13130   295.64  913.03   0.02  11.30 -0.17  1.03  0.97 -3.88  0.00  0.00  ...   \n",
            "18870   975.62 -133.05  -0.30   8.19 -0.04  1.00  0.00  0.00 -0.04  1.00  ...   \n",
            "...        ...     ...    ...    ...   ...   ...   ...   ...   ...   ...  ...   \n",
            "12788    258.9 -697.48 -12.69   0.00  1.00  0.10 -1.77  0.50 -1.22 -2.38  ...   \n",
            "18831   972.02 -290.78  -7.05  -0.92 -0.99 -0.15  0.00  0.00 -1.00  0.05  ...   \n",
            "23630  1353.72 -529.07   1.21   8.21 -0.01  1.00  0.00  0.00  0.35  0.94  ...   \n",
            "3393   -981.55 -624.82 -14.96  -6.05  0.00  0.00  0.00  0.00  0.00  0.00  ...   \n",
            "11918   144.76  280.85  -9.32  -2.19 -0.98 -0.21  0.00  0.00 -0.98 -0.19  ...   \n",
            "\n",
            "       yVel200  xA200  yA200  xS200  yS200  xC200  yC200  nAC200  nS200  Class  \n",
            "5260      3.39  -0.55   0.08    0.0    0.0  -0.31   0.09      32      0      1  \n",
            "16582     9.78   0.00   1.00    0.0    0.0   0.00   0.00      10      0      0  \n",
            "8955    -16.83   0.00   0.00    0.0    0.0   0.00   0.00      16      0      0  \n",
            "13130     9.46  -0.31   0.99    0.0    0.0   0.00   0.00      14      0      1  \n",
            "18870     9.41   0.02   1.00    0.0    0.0   0.02   1.00      14      4      1  \n",
            "...        ...    ...    ...    ...    ...    ...    ...     ...    ...    ...  \n",
            "12788    -5.27   0.95   0.33    0.0    0.0   1.97   1.82       7      0      1  \n",
            "18831     1.11  -0.94  -0.34    0.0    0.0  -0.87   0.49       6      1      1  \n",
            "23630     8.82   0.00   0.00    0.0    0.0   0.00   0.00       0      0      1  \n",
            "3393     -2.21   0.00   0.00    0.0    0.0   0.00   0.00      29      0      0  \n",
            "11918     2.21  -0.96   0.27    0.0    0.0  -0.98   0.19       1      0      1  \n",
            "\n",
            "[14409 rows x 2401 columns] 14409\n",
            "            x1      y1  xVel1  yVel1   xA1   yA1   xS1   yS1   xC1   yC1  ...  \\\n",
            "18456   939.44  -91.54  -1.30  -7.64  0.00  0.00  0.00  0.00  0.00  0.00  ...   \n",
            "17094   807.42 -165.93 -13.18  -5.33  0.00  0.00  0.00  0.00  0.00  0.00  ...   \n",
            "4331    -824.6 -448.99   7.72  -6.81  0.00  0.00  0.00  0.00  0.28 -0.15  ...   \n",
            "13191    300.3 -106.47  -9.99  -4.04  0.00  0.00  0.00  0.00  0.00  0.00  ...   \n",
            "18126   909.39 -274.67  -7.00   0.18 -0.56  0.02  0.00  0.00 -0.31  0.07  ...   \n",
            "...        ...     ...    ...    ...   ...   ...   ...   ...   ...   ...  ...   \n",
            "9449   -178.66 -315.49  -7.54   0.53 -0.56 -0.03  0.00  0.00 -0.32  0.00  ...   \n",
            "1666  -1250.08  224.90   6.96   3.38  0.00  0.00 -0.56 -0.83  0.00  0.00  ...   \n",
            "5927   -546.94  418.66 -17.25  -6.98  0.00  0.00  0.00  0.00  0.00  0.00  ...   \n",
            "11874   139.18  531.23   2.43   9.56  0.00  0.00  0.00  0.00  0.00  0.00  ...   \n",
            "15913   656.17 -193.92  -6.77  -0.07 -0.56  0.03  0.00  0.00 -0.31 -0.06  ...   \n",
            "\n",
            "       yVel200  xA200  yA200  xS200  yS200  xC200  yC200  nAC200  nS200  Class  \n",
            "18456    -3.18   0.00   0.00   0.00   0.00   0.00   0.00       0      0      0  \n",
            "17094    -3.67   0.00   0.00   0.00   0.00   0.00   0.00      53      1      0  \n",
            "4331     -6.40   0.00   0.00   0.00   0.00  -0.25  -0.21      11      0      0  \n",
            "13191   -12.91   0.00   0.00   0.00   0.00   0.00   0.00      39      0      0  \n",
            "18126    -0.14  -0.56  -0.05   0.00   0.00   0.32   0.04      33      0      1  \n",
            "...        ...    ...    ...    ...    ...    ...    ...     ...    ...    ...  \n",
            "9449     -0.78  -0.56   0.03   0.00   0.00  -0.32   0.02      29      0      1  \n",
            "1666      4.96   0.00   0.00   0.00   0.00   0.00   0.00       3      0      1  \n",
            "5927    -17.42   0.00   0.00   0.00   0.00   0.00   0.00      34      0      0  \n",
            "11874     2.05   0.00   0.00   0.00   0.00   0.00   0.00       2      0      1  \n",
            "15913    -0.13  -0.56   0.03   1.49  -1.08  -0.30  -0.11      18      1      1  \n",
            "\n",
            "[4803 rows x 2401 columns] 4803\n",
            "            x1      y1  xVel1  yVel1   xA1   yA1   xS1   yS1   xC1   yC1  ...  \\\n",
            "1687  -1246.81  -55.57  -3.89  -7.79  0.00  0.00  0.00  0.00  0.00  0.00  ...   \n",
            "23065  1320.87  791.85  -1.66 -11.25  0.00  0.00  0.00  0.00  0.00  0.00  ...   \n",
            "2540  -1097.42 -724.62   4.10   0.98 -0.09 -0.05  0.00  0.00  0.10 -0.02  ...   \n",
            "11868   138.33 -370.32  -8.84   1.83 -0.56  0.02 -0.03  1.84  0.10  0.31  ...   \n",
            "11270     63.1  444.65 -13.03 -12.35 -1.00 -1.00  0.00  0.00  0.00  0.00  ...   \n",
            "...        ...     ...    ...    ...   ...   ...   ...   ...   ...   ...  ...   \n",
            "17778   875.88 -397.39  -2.40  -5.78  0.00  0.00  0.00  0.00  0.00  0.00  ...   \n",
            "3706   -929.48 -216.34  -7.06  -1.31 -0.56  0.00  1.47  1.11 -0.32 -0.02  ...   \n",
            "9122   -227.83 -269.60  -2.14  -6.90 -0.25 -0.97  0.00  0.00  0.10 -0.99  ...   \n",
            "22135  1256.85  -28.25   2.71  -4.37 -0.01 -0.03  0.25 -1.83  0.01 -0.01  ...   \n",
            "15384   581.07 -481.12  -2.64   8.62 -0.48  0.88  2.14  5.85  0.87 -2.53  ...   \n",
            "\n",
            "       yVel200  xA200  yA200  xS200  yS200  xC200  yC200  nAC200  nS200  Class  \n",
            "1687     -6.80   0.00   0.00    0.0    0.0   0.00   0.00       0      0      0  \n",
            "23065   -10.51   0.00   0.00    0.0    0.0   0.00   0.00       0      0      0  \n",
            "2540     -4.30   0.30  -0.10    0.0    0.0  -0.27  -0.17       2      0      0  \n",
            "11868     1.42  -0.56  -0.01    0.0    0.0  -0.31   0.07      28      0      1  \n",
            "11270    17.42  -1.00  -1.00    0.0    0.0   0.00   0.00       7      0      0  \n",
            "...        ...    ...    ...    ...    ...    ...    ...     ...    ...    ...  \n",
            "17778    -3.71   0.00   0.00    0.0    0.0   0.00   0.00       1      0      0  \n",
            "3706     -1.06  -0.56   0.02    0.0    0.0  -0.30  -0.10      29      0      1  \n",
            "9122     -0.88  -0.98  -0.17    0.0    0.0  -0.99  -0.16       5      2      1  \n",
            "22135    -2.24   0.00   0.00    0.0    0.0  -0.01   0.00       2      0      0  \n",
            "15384    12.83  -0.26   0.97    0.0    0.0  -0.12   2.68      15      0      1  \n",
            "\n",
            "[4803 rows x 2401 columns] 4803\n"
          ]
        }
      ],
      "source": [
        "from sklearn.model_selection import train_test_split\n",
        "\n",
        "trainset, tempset = train_test_split(data, test_size=0.4, stratify=data['Class'], random_state=42)\n",
        "validset, testset = train_test_split(tempset, test_size=0.5, stratify=tempset['Class'], random_state=42)\n",
        "\n",
        "print(trainset, len(trainset))\n",
        "print(testset, len(testset))\n",
        "print(validset, len(validset))"
      ]
    },
    {
      "cell_type": "code",
      "execution_count": 84,
      "metadata": {
        "id": "vCQ_MORplCz0"
      },
      "outputs": [],
      "source": [
        "trainset.to_csv('../data/train.csv', index=False)\n",
        "testset.to_csv('../data/test.csv', index=False)\n",
        "validset.to_csv('../data/valid.csv', index=False)"
      ]
    }
  ],
  "metadata": {
    "colab": {
      "provenance": []
    },
    "kernelspec": {
      "display_name": ".env",
      "language": "python",
      "name": "python3"
    },
    "language_info": {
      "codemirror_mode": {
        "name": "ipython",
        "version": 3
      },
      "file_extension": ".py",
      "mimetype": "text/x-python",
      "name": "python",
      "nbconvert_exporter": "python",
      "pygments_lexer": "ipython3",
      "version": "3.11.3"
    }
  },
  "nbformat": 4,
  "nbformat_minor": 0
}
