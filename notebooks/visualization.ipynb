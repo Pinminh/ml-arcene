{
 "cells": [
  {
   "cell_type": "code",
   "execution_count": null,
   "id": "f72d0bdd",
   "metadata": {},
   "outputs": [],
   "source": [
    "import numpy as np\n",
    "import pandas as pd\n",
    "import matplotlib.pyplot as plt\n",
    "from sklearn.decomposition import PCA\n",
    "from sklearn.preprocessing import StandardScaler\n",
    "from sklearn.feature_selection import VarianceThreshold\n",
    "from sklearn.model_selection import train_test_split\n",
    "from sklearn.svm import LinearSVC\n",
    "from sklearn.tree import DecisionTreeClassifier\n",
    "from sklearn.calibration import CalibratedClassifierCV  # SVC không có predict_proba\n",
    "from sklearn.ensemble import BaggingClassifier\n",
    "from sklearn.ensemble import AdaBoostClassifier\n",
    "from sklearn.feature_selection import SelectKBest, f_classif\n",
    "from sklearn.metrics import accuracy_score\n",
    "from sklearn.pipeline import Pipeline\n",
    "from sklearn.metrics import classification_report, confusion_matrix, accuracy_score, precision_score, recall_score, f1_score, roc_auc_score\n",
    "import os"
   ]
  },
  {
   "cell_type": "code",
   "execution_count": 4,
   "id": "ab176735",
   "metadata": {},
   "outputs": [
    {
     "name": "stderr",
     "output_type": "stream",
     "text": [
      "C:\\Users\\TGDD-ASUS\\AppData\\Local\\Temp\\ipykernel_13944\\1309019311.py:2: DtypeWarning: Columns (0) have mixed types. Specify dtype option on import or set low_memory=False.\n",
      "  df = pd.read_csv('../data/Flocking.csv')\n"
     ]
    }
   ],
   "source": [
    "# Đọc dữ liệu\n",
    "df = pd.read_csv('../data/Flocking.csv')\n",
    "\n",
    "# Loại bỏ các hàng có cột chứa khoảng trắng hoặc chuỗi rỗng\n",
    "df_cleaned = df[~df.apply(lambda row: row.astype(str).str.fullmatch(r'\\s*').any(), axis=1)]\n",
    "\n",
    "# Tách train (60%) và phần còn lại (40%)\n",
    "train_df, temp_df = train_test_split(df_cleaned, test_size=0.4, random_state=42)\n",
    "\n",
    "# Tách phần còn lại thành val (20%) và test (20%)\n",
    "val_df, test_df = train_test_split(temp_df, test_size=0.5, random_state=42)\n",
    "# Giả sử cột cuối cùng là label\n",
    "X_train = train_df.iloc[:, :-1].values\n",
    "y_train = train_df.iloc[:, -1].values\n",
    "\n",
    "X_valid = val_df.iloc[:, :-1].values\n",
    "y_valid = val_df.iloc[:, -1].values\n"
   ]
  },
  {
   "cell_type": "code",
   "execution_count": 6,
   "id": "cd60e644",
   "metadata": {},
   "outputs": [
    {
     "name": "stdout",
     "output_type": "stream",
     "text": [
      "Train size: 14409\n",
      "Validation size: 4803\n",
      "Test size: 4803\n",
      "(14409, 2400)\n",
      "(14409,)\n",
      "(4803, 2400)\n",
      "(4803,)\n"
     ]
    }
   ],
   "source": [
    "# Kiểm tra kích thước\n",
    "print(f\"Train size: {len(train_df)}\")\n",
    "print(f\"Validation size: {len(val_df)}\")\n",
    "print(f\"Test size: {len(test_df)}\")\n",
    "print(X_train.shape)\n",
    "print(y_train.shape)\n",
    "print(X_valid.shape)\n",
    "print(y_valid.shape)"
   ]
  },
  {
   "cell_type": "code",
   "execution_count": 7,
   "id": "a39aa33b",
   "metadata": {},
   "outputs": [],
   "source": [
    "# === Evaluation function ===\n",
    "def evaluate_model(name, y_true, y_pred, y_proba):\n",
    "    return {\n",
    "        'Model': name,\n",
    "        'Accuracy': accuracy_score(y_true, y_pred),\n",
    "        'Precision': precision_score(y_true, y_pred),\n",
    "        'Recall': recall_score(y_true, y_pred),\n",
    "        'F1 Score': f1_score(y_true, y_pred),\n",
    "        'ROC-AUC': roc_auc_score(y_true, y_proba)\n",
    "    }"
   ]
  },
  {
   "cell_type": "code",
   "execution_count": 8,
   "id": "d661982d",
   "metadata": {},
   "outputs": [
    {
     "name": "stdout",
     "output_type": "stream",
     "text": [
      "\n",
      "Best LinearSVC parameters by ROC-AUC:\n",
      "C = 0.01, max_iter = 500, ROC-AUC = 1.0000\n"
     ]
    }
   ],
   "source": [
    "results = []\n",
    "C_values = [0.01, 0.1, 1, 10, 100]\n",
    "max_iter_values = [500, 1000, 5000, 10000]\n",
    "\n",
    "best_auc = 0\n",
    "best_params_svc = {}\n",
    "\n",
    "# === LinearSVC với CalibratedClassifierCV ===\n",
    "for C in C_values:\n",
    "    for max_iter in max_iter_values:\n",
    "        base_model = LinearSVC(C=C, max_iter=max_iter, random_state=42)\n",
    "        model = CalibratedClassifierCV(base_model)\n",
    "\n",
    "        pipeline = Pipeline([\n",
    "            ('scaler', StandardScaler()),\n",
    "            ('clf', model)\n",
    "        ])\n",
    "\n",
    "        pipeline.fit(X_train, y_train)\n",
    "        y_pred = pipeline.predict(X_valid)\n",
    "        y_proba = pipeline.predict_proba(X_valid)[:, 1]\n",
    "        auc = roc_auc_score(y_valid, y_proba)\n",
    "\n",
    "        if auc > best_auc:\n",
    "            best_auc = auc\n",
    "            best_params_svc = {'C': C, 'max_iter': max_iter}\n",
    "            best_svc_pipeline = pipeline\n",
    "            best_y_pred_svc = y_pred\n",
    "            best_y_proba_svc = y_proba\n",
    "\n",
    "print(\"\\nBest LinearSVC parameters by ROC-AUC:\")\n",
    "print(f\"C = {best_params_svc['C']}, max_iter = {best_params_svc['max_iter']}, ROC-AUC = {best_auc:.4f}\")\n",
    "results.append(evaluate_model(\n",
    "    f\"LinearSVC (C={best_params_svc['C']}, max_iter={best_params_svc['max_iter']})\",\n",
    "    y_valid, best_y_pred_svc, best_y_proba_svc\n",
    "))"
   ]
  },
  {
   "cell_type": "code",
   "execution_count": 10,
   "id": "749ca20d",
   "metadata": {},
   "outputs": [
    {
     "name": "stdout",
     "output_type": "stream",
     "text": [
      "\n",
      "Best DecisionTree parameters by ROC-AUC:\n",
      "max_depth = 15, min_samples_split = 2, ROC-AUC = 0.9911\n"
     ]
    }
   ],
   "source": [
    "# === Decision Tree ===\n",
    "max_depth_values = [3, 5, 10, 15, 20, None]\n",
    "min_samples_split_values = [2, 5, 10]\n",
    "\n",
    "best_auc_tree = 0\n",
    "best_params_tree = {}\n",
    "\n",
    "for max_depth in max_depth_values:\n",
    "    for min_samples_split in min_samples_split_values:\n",
    "        model = DecisionTreeClassifier(max_depth=max_depth,\n",
    "                                       min_samples_split=min_samples_split,\n",
    "                                       random_state=42)\n",
    "        pipeline = Pipeline([\n",
    "            ('scaler', StandardScaler()),  # Có thể bỏ với cây, giữ để đồng nhất\n",
    "            ('clf', model)\n",
    "        ])\n",
    "\n",
    "        pipeline.fit(X_train, y_train)\n",
    "        y_pred = pipeline.predict(X_valid)\n",
    "        y_proba = pipeline.named_steps['clf'].predict_proba(StandardScaler().fit_transform(X_valid))[:, 1]\n",
    "        auc = roc_auc_score(y_valid, y_proba)\n",
    "\n",
    "        if auc > best_auc_tree:\n",
    "            best_auc_tree = auc\n",
    "            best_params_tree = {\n",
    "                'max_depth': max_depth,\n",
    "                'min_samples_split': min_samples_split\n",
    "            }\n",
    "            best_y_pred_tree = y_pred\n",
    "            best_y_proba_tree = y_proba\n",
    "            best_tree_model = pipeline\n",
    "\n",
    "print(\"\\nBest DecisionTree parameters by ROC-AUC:\")\n",
    "print(f\"max_depth = {best_params_tree['max_depth']}, min_samples_split = {best_params_tree['min_samples_split']}, ROC-AUC = {best_auc_tree:.4f}\")\n",
    "results.append(evaluate_model(\n",
    "    f\"Decision Tree (max_depth={best_params_tree['max_depth']}, min_split={best_params_tree['min_samples_split']})\",\n",
    "    y_valid, best_y_pred_tree, best_y_proba_tree\n",
    "))"
   ]
  },
  {
   "cell_type": "code",
   "execution_count": 11,
   "id": "a515e05e",
   "metadata": {},
   "outputs": [
    {
     "name": "stdout",
     "output_type": "stream",
     "text": [
      " Đánh giá LinearSVC trên test set:\n",
      "              precision    recall  f1-score   support\n",
      "\n",
      "           0       1.00      1.00      1.00      2413\n",
      "           1       1.00      1.00      1.00      2390\n",
      "\n",
      "    accuracy                           1.00      4803\n",
      "   macro avg       1.00      1.00      1.00      4803\n",
      "weighted avg       1.00      1.00      1.00      4803\n",
      "\n",
      "Confusion Matrix:\n",
      " [[2413    0]\n",
      " [   1 2389]]\n",
      "ROC-AUC: 1.0\n",
      "\n",
      " Đánh giá DecisionTree trên test set:\n",
      "              precision    recall  f1-score   support\n",
      "\n",
      "           0       1.00      1.00      1.00      2413\n",
      "           1       1.00      1.00      1.00      2390\n",
      "\n",
      "    accuracy                           1.00      4803\n",
      "   macro avg       1.00      1.00      1.00      4803\n",
      "weighted avg       1.00      1.00      1.00      4803\n",
      "\n",
      "Confusion Matrix:\n",
      " [[2412    1]\n",
      " [  10 2380]]\n",
      "ROC-AUC: 0.9977007388500573\n"
     ]
    }
   ],
   "source": [
    "# Chuẩn bị dữ liệu test\n",
    "X_test = test_df.iloc[:, :-1].values\n",
    "y_test = test_df.iloc[:, -1].values\n",
    "\n",
    "# === Đánh giá mô hình LinearSVC tốt nhất ===\n",
    "y_pred_test_svc = best_svc_pipeline.predict(X_test)\n",
    "y_proba_test_svc = best_svc_pipeline.predict_proba(X_test)[:, 1]\n",
    "\n",
    "print(\" Đánh giá LinearSVC trên test set:\")\n",
    "print(classification_report(y_test, y_pred_test_svc))\n",
    "print(\"Confusion Matrix:\\n\", confusion_matrix(y_test, y_pred_test_svc))\n",
    "print(\"ROC-AUC:\", roc_auc_score(y_test, y_proba_test_svc))\n",
    "\n",
    "# === Đánh giá mô hình DecisionTree tốt nhất ===\n",
    "y_pred_test_tree = best_tree_model.predict(X_test)\n",
    "y_proba_test_tree = best_tree_model.predict_proba(X_test)[:, 1]\n",
    "\n",
    "print(\"\\n Đánh giá DecisionTree trên test set:\")\n",
    "print(classification_report(y_test, y_pred_test_tree))\n",
    "print(\"Confusion Matrix:\\n\", confusion_matrix(y_test, y_pred_test_tree))\n",
    "print(\"ROC-AUC:\", roc_auc_score(y_test, y_proba_test_tree))"
   ]
  },
  {
   "cell_type": "code",
   "execution_count": 12,
   "id": "267078bd",
   "metadata": {},
   "outputs": [
    {
     "name": "stderr",
     "output_type": "stream",
     "text": [
      "c:\\Users\\TGDD-ASUS\\Documents\\GitHub\\ml-arcene\\.env\\Lib\\site-packages\\sklearn\\svm\\_base.py:1249: ConvergenceWarning: Liblinear failed to converge, increase the number of iterations.\n",
      "  warnings.warn(\n",
      "c:\\Users\\TGDD-ASUS\\Documents\\GitHub\\ml-arcene\\.env\\Lib\\site-packages\\sklearn\\svm\\_base.py:1249: ConvergenceWarning: Liblinear failed to converge, increase the number of iterations.\n",
      "  warnings.warn(\n"
     ]
    },
    {
     "name": "stdout",
     "output_type": "stream",
     "text": [
      "\n",
      " Đánh giá Bagging LinearSVC trên test set:\n",
      "              precision    recall  f1-score   support\n",
      "\n",
      "           0       1.00      1.00      1.00      2413\n",
      "           1       1.00      1.00      1.00      2390\n",
      "\n",
      "    accuracy                           1.00      4803\n",
      "   macro avg       1.00      1.00      1.00      4803\n",
      "weighted avg       1.00      1.00      1.00      4803\n",
      "\n",
      "Confusion Matrix:\n",
      " [[2404    9]\n",
      " [   6 2384]]\n",
      "ROC-AUC: 0.999927519520311\n",
      "\n",
      " Đánh giá Bagging DecisionTree trên test set:\n",
      "              precision    recall  f1-score   support\n",
      "\n",
      "           0       1.00      1.00      1.00      2413\n",
      "           1       1.00      1.00      1.00      2390\n",
      "\n",
      "    accuracy                           1.00      4803\n",
      "   macro avg       1.00      1.00      1.00      4803\n",
      "weighted avg       1.00      1.00      1.00      4803\n",
      "\n",
      "Confusion Matrix:\n",
      " [[2413    0]\n",
      " [   3 2387]]\n",
      "ROC-AUC: 1.0\n"
     ]
    }
   ],
   "source": [
    "\n",
    "# --- Bagging cho LinearSVC ---\n",
    "bagging_svc = BaggingClassifier(\n",
    "    estimator=best_svc_pipeline.named_steps['clf'], \n",
    "    n_estimators=10,\n",
    "    max_samples=0.8,\n",
    "    random_state=42\n",
    ")\n",
    "\n",
    "bagging_svc.fit(X_train, y_train)\n",
    "y_pred_test_bagging_svc = bagging_svc.predict(X_test)\n",
    "y_proba_test_bagging_svc = bagging_svc.predict_proba(X_test)[:, 1]\n",
    "\n",
    "print(\"\\n Đánh giá Bagging LinearSVC trên test set:\")\n",
    "print(classification_report(y_test, y_pred_test_bagging_svc))\n",
    "print(\"Confusion Matrix:\\n\", confusion_matrix(y_test, y_pred_test_bagging_svc))\n",
    "print(\"ROC-AUC:\", roc_auc_score(y_test, y_proba_test_bagging_svc))\n",
    "\n",
    "\n",
    "# --- Bagging cho Decision Tree ---\n",
    "bagging_tree = BaggingClassifier(\n",
    "    estimator=best_tree_model.named_steps['clf'], \n",
    "    n_estimators=10,\n",
    "    max_samples= 0.8, \n",
    "    random_state=42\n",
    ")\n",
    "\n",
    "bagging_tree.fit(X_train, y_train)\n",
    "y_pred_test_bagging_tree = bagging_tree.predict(X_test)\n",
    "y_proba_test_bagging_tree = bagging_tree.predict_proba(X_test)[:, 1]\n",
    "\n",
    "print(\"\\n Đánh giá Bagging DecisionTree trên test set:\")\n",
    "print(classification_report(y_test, y_pred_test_bagging_tree))\n",
    "print(\"Confusion Matrix:\\n\", confusion_matrix(y_test, y_pred_test_bagging_tree))\n",
    "print(\"ROC-AUC:\", roc_auc_score(y_test, y_proba_test_bagging_tree))\n",
    "\n",
    "\n"
   ]
  },
  {
   "cell_type": "code",
   "execution_count": 13,
   "id": "6d077e15",
   "metadata": {},
   "outputs": [
    {
     "name": "stdout",
     "output_type": "stream",
     "text": [
      "\n",
      " Đánh giá Boosting DecisionTree trên test set:\n",
      "              precision    recall  f1-score   support\n",
      "\n",
      "           0       1.00      1.00      1.00      2413\n",
      "           1       1.00      1.00      1.00      2390\n",
      "\n",
      "    accuracy                           1.00      4803\n",
      "   macro avg       1.00      1.00      1.00      4803\n",
      "weighted avg       1.00      1.00      1.00      4803\n",
      "\n",
      "Confusion Matrix:\n",
      " [[2411    2]\n",
      " [   5 2385]]\n",
      "ROC-AUC: 0.9985395530139222\n"
     ]
    }
   ],
   "source": [
    "\n",
    "# --- Boosting cho Decision Tree ---\n",
    "boosting_tree = AdaBoostClassifier(\n",
    "    estimator=best_tree_model.named_steps['clf'],  # lấy mô hình Decision Tree tốt nhất\n",
    "    n_estimators=50,\n",
    "    learning_rate=1.0,\n",
    "    random_state=42\n",
    ")\n",
    "\n",
    "boosting_tree.fit(X_train, y_train)\n",
    "y_pred_test_boosting_tree = boosting_tree.predict(X_test)\n",
    "y_proba_test_boosting_tree = boosting_tree.predict_proba(X_test)[:, 1]\n",
    "\n",
    "print(\"\\n Đánh giá Boosting DecisionTree trên test set:\")\n",
    "print(classification_report(y_test, y_pred_test_boosting_tree))\n",
    "print(\"Confusion Matrix:\\n\", confusion_matrix(y_test, y_pred_test_boosting_tree))\n",
    "print(\"ROC-AUC:\", roc_auc_score(y_test, y_proba_test_boosting_tree))\n"
   ]
  }
 ],
 "metadata": {
  "kernelspec": {
   "display_name": ".env",
   "language": "python",
   "name": "python3"
  },
  "language_info": {
   "codemirror_mode": {
    "name": "ipython",
    "version": 3
   },
   "file_extension": ".py",
   "mimetype": "text/x-python",
   "name": "python",
   "nbconvert_exporter": "python",
   "pygments_lexer": "ipython3",
   "version": "3.12.4"
  }
 },
 "nbformat": 4,
 "nbformat_minor": 5
}
